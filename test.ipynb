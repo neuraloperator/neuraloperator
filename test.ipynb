{
 "cells": [
  {
   "cell_type": "code",
   "execution_count": 1,
   "id": "7a02f9c7",
   "metadata": {},
   "outputs": [
    {
     "name": "stdout",
     "output_type": "stream",
     "text": [
      "print token code dimension 1 1\n",
      "print token code dimension 1 1\n",
      "print token code dimension 1 1\n",
      "print token code dimension 1 1\n"
     ]
    }
   ],
   "source": [
    "from neuralop.models.codano import CODANO\n",
    "import torch\n",
    "\n",
    "model = CODANO(\n",
    "    output_variable_codimension=1,\n",
    "    lifting_channels=64,\n",
    "    hidden_variable_codimension=32,\n",
    "    projection_channels=64,\n",
    "    n_layers=4,\n",
    "    n_modes=[[16, 16]] * 4,\n",
    "    variable_ids=['u_x', 'u_y', 'p'],\n",
    "    use_positional_encoding=True,\n",
    "    positional_encoding_dim=8,\n",
    "    positional_encoding_modes=[16, 16],\n",
    "    static_channel_dim=1,\n",
    "    enable_cls_token=True,\n",
    ").to(\"cuda\")"
   ]
  },
  {
   "cell_type": "code",
   "execution_count": 3,
   "id": "896238b6",
   "metadata": {},
   "outputs": [
    {
     "name": "stdout",
     "output_type": "stream",
     "text": [
      "torch.Size([32, 3, 16, 18])\n"
     ]
    }
   ],
   "source": [
    "data = torch.randn(32, 3, 16, 18).to(\"cuda\")\n",
    "static_channel = torch.randn(32, 1, 16, 18).to(\"cuda\")\n",
    "input_variable_ids = ['u_x', 'u_y', 'p']\n",
    "output = model(data, static_channel, input_variable_ids)\n",
    "\n",
    "print(output.shape)"
   ]
  }
 ],
 "metadata": {
  "kernelspec": {
   "display_name": ".venv",
   "language": "python",
   "name": "python3"
  },
  "language_info": {
   "codemirror_mode": {
    "name": "ipython",
    "version": 3
   },
   "file_extension": ".py",
   "mimetype": "text/x-python",
   "name": "python",
   "nbconvert_exporter": "python",
   "pygments_lexer": "ipython3",
   "version": "3.10.9"
  }
 },
 "nbformat": 4,
 "nbformat_minor": 5
}
